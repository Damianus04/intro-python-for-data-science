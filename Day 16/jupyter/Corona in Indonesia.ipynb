{
 "cells": [
  {
   "cell_type": "markdown",
   "metadata": {},
   "source": [
    "# Corona Cases Recover in Indonesia"
   ]
  },
  {
   "cell_type": "code",
   "execution_count": 4,
   "metadata": {},
   "outputs": [],
   "source": [
    "import numpy as np\n",
    "import pandas as pd\n",
    "import matplotlib.pyplot as plt\n",
    "import sklearn"
   ]
  },
  {
   "cell_type": "code",
   "execution_count": 8,
   "metadata": {},
   "outputs": [],
   "source": [
    "corona_df = pd.read_csv(\"../csv/indonesia-coronavirus-cases/cases.csv\")"
   ]
  },
  {
   "cell_type": "code",
   "execution_count": 9,
   "metadata": {},
   "outputs": [
    {
     "name": "stdout",
     "output_type": "stream",
     "text": [
      "<class 'pandas.core.frame.DataFrame'>\n",
      "RangeIndex: 30 entries, 0 to 29\n",
      "Data columns (total 17 columns):\n",
      "date                  30 non-null object\n",
      "new_tested            28 non-null float64\n",
      "acc_tested            30 non-null int64\n",
      "new_confirmed         30 non-null int64\n",
      "acc_confirmed         30 non-null int64\n",
      "acc_negative          30 non-null int64\n",
      "being_checked         30 non-null int64\n",
      "isolated              30 non-null int64\n",
      "new_released          30 non-null int64\n",
      "acc_released          30 non-null int64\n",
      "new_deceased          30 non-null int64\n",
      "acc_deceased          30 non-null int64\n",
      "positive_rate         30 non-null object\n",
      "negative_rate         30 non-null object\n",
      "decease_rate          30 non-null object\n",
      "release_rate          30 non-null object\n",
      "dailypositive_rate    30 non-null object\n",
      "dtypes: float64(1), int64(10), object(6)\n",
      "memory usage: 4.1+ KB\n"
     ]
    }
   ],
   "source": [
    "corona_df.info()"
   ]
  },
  {
   "cell_type": "code",
   "execution_count": 12,
   "metadata": {},
   "outputs": [
    {
     "data": {
      "text/html": [
       "<div>\n",
       "<style scoped>\n",
       "    .dataframe tbody tr th:only-of-type {\n",
       "        vertical-align: middle;\n",
       "    }\n",
       "\n",
       "    .dataframe tbody tr th {\n",
       "        vertical-align: top;\n",
       "    }\n",
       "\n",
       "    .dataframe thead th {\n",
       "        text-align: right;\n",
       "    }\n",
       "</style>\n",
       "<table border=\"1\" class=\"dataframe\">\n",
       "  <thead>\n",
       "    <tr style=\"text-align: right;\">\n",
       "      <th></th>\n",
       "      <th>new_tested</th>\n",
       "      <th>acc_tested</th>\n",
       "      <th>new_confirmed</th>\n",
       "      <th>acc_confirmed</th>\n",
       "      <th>acc_negative</th>\n",
       "      <th>being_checked</th>\n",
       "      <th>isolated</th>\n",
       "      <th>new_released</th>\n",
       "      <th>acc_released</th>\n",
       "      <th>new_deceased</th>\n",
       "      <th>acc_deceased</th>\n",
       "    </tr>\n",
       "  </thead>\n",
       "  <tbody>\n",
       "    <tr>\n",
       "      <td>count</td>\n",
       "      <td>28.000000</td>\n",
       "      <td>30.000000</td>\n",
       "      <td>30.000000</td>\n",
       "      <td>30.000000</td>\n",
       "      <td>30.000000</td>\n",
       "      <td>30.000000</td>\n",
       "      <td>30.000000</td>\n",
       "      <td>30.000000</td>\n",
       "      <td>30.000000</td>\n",
       "      <td>30.000000</td>\n",
       "      <td>30.000000</td>\n",
       "    </tr>\n",
       "    <tr>\n",
       "      <td>mean</td>\n",
       "      <td>232.178571</td>\n",
       "      <td>2275.300000</td>\n",
       "      <td>50.933333</td>\n",
       "      <td>398.933333</td>\n",
       "      <td>1875.000000</td>\n",
       "      <td>13.000000</td>\n",
       "      <td>346.266667</td>\n",
       "      <td>2.700000</td>\n",
       "      <td>19.500000</td>\n",
       "      <td>4.533333</td>\n",
       "      <td>33.166667</td>\n",
       "    </tr>\n",
       "    <tr>\n",
       "      <td>std</td>\n",
       "      <td>288.940729</td>\n",
       "      <td>2153.042645</td>\n",
       "      <td>48.962993</td>\n",
       "      <td>480.433923</td>\n",
       "      <td>1680.618954</td>\n",
       "      <td>11.110728</td>\n",
       "      <td>414.461673</td>\n",
       "      <td>3.752241</td>\n",
       "      <td>23.933457</td>\n",
       "      <td>5.624658</td>\n",
       "      <td>42.402085</td>\n",
       "    </tr>\n",
       "    <tr>\n",
       "      <td>min</td>\n",
       "      <td>2.000000</td>\n",
       "      <td>339.000000</td>\n",
       "      <td>0.000000</td>\n",
       "      <td>2.000000</td>\n",
       "      <td>335.000000</td>\n",
       "      <td>0.000000</td>\n",
       "      <td>2.000000</td>\n",
       "      <td>0.000000</td>\n",
       "      <td>0.000000</td>\n",
       "      <td>0.000000</td>\n",
       "      <td>0.000000</td>\n",
       "    </tr>\n",
       "    <tr>\n",
       "      <td>25%</td>\n",
       "      <td>67.250000</td>\n",
       "      <td>580.750000</td>\n",
       "      <td>3.250000</td>\n",
       "      <td>21.000000</td>\n",
       "      <td>527.250000</td>\n",
       "      <td>0.000000</td>\n",
       "      <td>21.000000</td>\n",
       "      <td>0.000000</td>\n",
       "      <td>0.000000</td>\n",
       "      <td>0.000000</td>\n",
       "      <td>0.000000</td>\n",
       "    </tr>\n",
       "    <tr>\n",
       "      <td>50%</td>\n",
       "      <td>136.000000</td>\n",
       "      <td>1351.000000</td>\n",
       "      <td>36.500000</td>\n",
       "      <td>153.000000</td>\n",
       "      <td>1230.500000</td>\n",
       "      <td>15.000000</td>\n",
       "      <td>138.500000</td>\n",
       "      <td>1.000000</td>\n",
       "      <td>8.500000</td>\n",
       "      <td>2.000000</td>\n",
       "      <td>6.000000</td>\n",
       "    </tr>\n",
       "    <tr>\n",
       "      <td>75%</td>\n",
       "      <td>309.000000</td>\n",
       "      <td>3188.000000</td>\n",
       "      <td>97.750000</td>\n",
       "      <td>658.500000</td>\n",
       "      <td>2513.000000</td>\n",
       "      <td>20.000000</td>\n",
       "      <td>575.000000</td>\n",
       "      <td>4.000000</td>\n",
       "      <td>30.000000</td>\n",
       "      <td>7.750000</td>\n",
       "      <td>53.500000</td>\n",
       "    </tr>\n",
       "    <tr>\n",
       "      <td>max</td>\n",
       "      <td>1439.000000</td>\n",
       "      <td>6777.000000</td>\n",
       "      <td>153.000000</td>\n",
       "      <td>1528.000000</td>\n",
       "      <td>5249.000000</td>\n",
       "      <td>37.000000</td>\n",
       "      <td>1311.000000</td>\n",
       "      <td>13.000000</td>\n",
       "      <td>81.000000</td>\n",
       "      <td>20.000000</td>\n",
       "      <td>136.000000</td>\n",
       "    </tr>\n",
       "  </tbody>\n",
       "</table>\n",
       "</div>"
      ],
      "text/plain": [
       "        new_tested   acc_tested  new_confirmed  acc_confirmed  acc_negative  \\\n",
       "count    28.000000    30.000000      30.000000      30.000000     30.000000   \n",
       "mean    232.178571  2275.300000      50.933333     398.933333   1875.000000   \n",
       "std     288.940729  2153.042645      48.962993     480.433923   1680.618954   \n",
       "min       2.000000   339.000000       0.000000       2.000000    335.000000   \n",
       "25%      67.250000   580.750000       3.250000      21.000000    527.250000   \n",
       "50%     136.000000  1351.000000      36.500000     153.000000   1230.500000   \n",
       "75%     309.000000  3188.000000      97.750000     658.500000   2513.000000   \n",
       "max    1439.000000  6777.000000     153.000000    1528.000000   5249.000000   \n",
       "\n",
       "       being_checked     isolated  new_released  acc_released  new_deceased  \\\n",
       "count      30.000000    30.000000     30.000000     30.000000     30.000000   \n",
       "mean       13.000000   346.266667      2.700000     19.500000      4.533333   \n",
       "std        11.110728   414.461673      3.752241     23.933457      5.624658   \n",
       "min         0.000000     2.000000      0.000000      0.000000      0.000000   \n",
       "25%         0.000000    21.000000      0.000000      0.000000      0.000000   \n",
       "50%        15.000000   138.500000      1.000000      8.500000      2.000000   \n",
       "75%        20.000000   575.000000      4.000000     30.000000      7.750000   \n",
       "max        37.000000  1311.000000     13.000000     81.000000     20.000000   \n",
       "\n",
       "       acc_deceased  \n",
       "count     30.000000  \n",
       "mean      33.166667  \n",
       "std       42.402085  \n",
       "min        0.000000  \n",
       "25%        0.000000  \n",
       "50%        6.000000  \n",
       "75%       53.500000  \n",
       "max      136.000000  "
      ]
     },
     "execution_count": 12,
     "metadata": {},
     "output_type": "execute_result"
    }
   ],
   "source": [
    "corona_df.describe()"
   ]
  },
  {
   "cell_type": "markdown",
   "metadata": {},
   "source": [
    "### Visualization"
   ]
  },
  {
   "cell_type": "code",
   "execution_count": 19,
   "metadata": {},
   "outputs": [],
   "source": [
    "x = corona_df.loc[:, [\"acc_confirmed\"]]\n",
    "y = corona_df.loc[:, [\"acc_released\"]]"
   ]
  },
  {
   "cell_type": "code",
   "execution_count": 18,
   "metadata": {},
   "outputs": [
    {
     "data": {
      "image/png": "[encoded data removed]",
      "text/plain": [
       "<Figure size 432x288 with 1 Axes>"
      ]
     },
     "metadata": {
      "needs_background": "light"
     },
     "output_type": "display_data"
    }
   ],
   "source": [
    "plt.scatter(x, y, color='red')\n",
    "plt.title('Amount of released from karantina')\n",
    "plt.xlabel('Confirmed')\n",
    "plt.ylabel('released')\n",
    "plt.show()"
   ]
  },
  {
   "cell_type": "markdown",
   "metadata": {},
   "source": [
    "### Total of Confirmed Cases"
   ]
  },
  {
   "cell_type": "code",
   "execution_count": 32,
   "metadata": {},
   "outputs": [
    {
     "data": {
      "text/plain": [
       "Text(0, 0.5, 'frequency of appearance')"
      ]
     },
     "execution_count": 32,
     "metadata": {},
     "output_type": "execute_result"
    },
    {
     "data": {
      "image/png": "[encoded data removed]",
      "text/plain": [
       "<Figure size 432x288 with 1 Axes>"
      ]
     },
     "metadata": {
      "needs_background": "light"
     },
     "output_type": "display_data"
    }
   ],
   "source": [
    "fig, ax = plt.subplots()\n",
    "\n",
    "ax.hist(corona_df[\"acc_confirmed\"])\n",
    "ax.set_title(\"Confirmed Corona\")\n",
    "ax.set_xlabel('Amount of tested')\n",
    "ax.set_ylabel('frequency of appearance')"
   ]
  },
  {
   "cell_type": "markdown",
   "metadata": {},
   "source": [
    "### Total of Release Cases"
   ]
  },
  {
   "cell_type": "code",
   "execution_count": 33,
   "metadata": {},
   "outputs": [
    {
     "data": {
      "text/plain": [
       "Text(0, 0.5, 'frequency of appearance')"
      ]
     },
     "execution_count": 33,
     "metadata": {},
     "output_type": "execute_result"
    },
    {
     "data": {
      "image/png": "[encoded data removed]",
      "text/plain": [
       "<Figure size 432x288 with 1 Axes>"
      ]
     },
     "metadata": {
      "needs_background": "light"
     },
     "output_type": "display_data"
    }
   ],
   "source": [
    "fig, ax = plt.subplots()\n",
    "\n",
    "ax.hist(corona_df[\"acc_released\"])\n",
    "ax.set_title(\"Released Corona\")\n",
    "ax.set_xlabel('Amount of tested')\n",
    "ax.set_ylabel('frequency of appearance')"
   ]
  },
  {
   "cell_type": "markdown",
   "metadata": {},
   "source": [
    "### Date of Case Confirmed and Released"
   ]
  },
  {
   "cell_type": "code",
   "execution_count": 30,
   "metadata": {},
   "outputs": [
    {
     "data": {
      "text/html": [
       "<div>\n",
       "<style scoped>\n",
       "    .dataframe tbody tr th:only-of-type {\n",
       "        vertical-align: middle;\n",
       "    }\n",
       "\n",
       "    .dataframe tbody tr th {\n",
       "        vertical-align: top;\n",
       "    }\n",
       "\n",
       "    .dataframe thead th {\n",
       "        text-align: right;\n",
       "    }\n",
       "</style>\n",
       "<table border=\"1\" class=\"dataframe\">\n",
       "  <thead>\n",
       "    <tr style=\"text-align: right;\">\n",
       "      <th></th>\n",
       "      <th>date</th>\n",
       "      <th>acc_confirmed</th>\n",
       "      <th>acc_released</th>\n",
       "    </tr>\n",
       "  </thead>\n",
       "  <tbody>\n",
       "    <tr>\n",
       "      <td>0</td>\n",
       "      <td>2-Mar-20</td>\n",
       "      <td>2</td>\n",
       "      <td>0</td>\n",
       "    </tr>\n",
       "    <tr>\n",
       "      <td>1</td>\n",
       "      <td>3-Mar-20</td>\n",
       "      <td>2</td>\n",
       "      <td>0</td>\n",
       "    </tr>\n",
       "    <tr>\n",
       "      <td>2</td>\n",
       "      <td>4-Mar-20</td>\n",
       "      <td>2</td>\n",
       "      <td>0</td>\n",
       "    </tr>\n",
       "    <tr>\n",
       "      <td>3</td>\n",
       "      <td>5-Mar-20</td>\n",
       "      <td>2</td>\n",
       "      <td>0</td>\n",
       "    </tr>\n",
       "    <tr>\n",
       "      <td>4</td>\n",
       "      <td>6-Mar-20</td>\n",
       "      <td>4</td>\n",
       "      <td>0</td>\n",
       "    </tr>\n",
       "    <tr>\n",
       "      <td>5</td>\n",
       "      <td>7-Mar-20</td>\n",
       "      <td>4</td>\n",
       "      <td>0</td>\n",
       "    </tr>\n",
       "    <tr>\n",
       "      <td>6</td>\n",
       "      <td>8-Mar-20</td>\n",
       "      <td>6</td>\n",
       "      <td>0</td>\n",
       "    </tr>\n",
       "    <tr>\n",
       "      <td>7</td>\n",
       "      <td>9-Mar-20</td>\n",
       "      <td>19</td>\n",
       "      <td>0</td>\n",
       "    </tr>\n",
       "    <tr>\n",
       "      <td>8</td>\n",
       "      <td>10-Mar-20</td>\n",
       "      <td>27</td>\n",
       "      <td>0</td>\n",
       "    </tr>\n",
       "    <tr>\n",
       "      <td>9</td>\n",
       "      <td>11-Mar-20</td>\n",
       "      <td>34</td>\n",
       "      <td>2</td>\n",
       "    </tr>\n",
       "    <tr>\n",
       "      <td>10</td>\n",
       "      <td>12-Mar-20</td>\n",
       "      <td>34</td>\n",
       "      <td>3</td>\n",
       "    </tr>\n",
       "    <tr>\n",
       "      <td>11</td>\n",
       "      <td>13-Mar-20</td>\n",
       "      <td>69</td>\n",
       "      <td>5</td>\n",
       "    </tr>\n",
       "    <tr>\n",
       "      <td>12</td>\n",
       "      <td>14-Mar-20</td>\n",
       "      <td>96</td>\n",
       "      <td>8</td>\n",
       "    </tr>\n",
       "    <tr>\n",
       "      <td>13</td>\n",
       "      <td>15-Mar-20</td>\n",
       "      <td>117</td>\n",
       "      <td>8</td>\n",
       "    </tr>\n",
       "    <tr>\n",
       "      <td>14</td>\n",
       "      <td>16-Mar-20</td>\n",
       "      <td>134</td>\n",
       "      <td>8</td>\n",
       "    </tr>\n",
       "    <tr>\n",
       "      <td>15</td>\n",
       "      <td>17-Mar-20</td>\n",
       "      <td>172</td>\n",
       "      <td>9</td>\n",
       "    </tr>\n",
       "    <tr>\n",
       "      <td>16</td>\n",
       "      <td>18-Mar-20</td>\n",
       "      <td>227</td>\n",
       "      <td>11</td>\n",
       "    </tr>\n",
       "    <tr>\n",
       "      <td>17</td>\n",
       "      <td>19-Mar-20</td>\n",
       "      <td>309</td>\n",
       "      <td>15</td>\n",
       "    </tr>\n",
       "    <tr>\n",
       "      <td>18</td>\n",
       "      <td>20-Mar-20</td>\n",
       "      <td>369</td>\n",
       "      <td>16</td>\n",
       "    </tr>\n",
       "    <tr>\n",
       "      <td>19</td>\n",
       "      <td>21-Mar-20</td>\n",
       "      <td>450</td>\n",
       "      <td>20</td>\n",
       "    </tr>\n",
       "    <tr>\n",
       "      <td>20</td>\n",
       "      <td>22-Mar-20</td>\n",
       "      <td>514</td>\n",
       "      <td>29</td>\n",
       "    </tr>\n",
       "    <tr>\n",
       "      <td>21</td>\n",
       "      <td>23-Mar-20</td>\n",
       "      <td>579</td>\n",
       "      <td>30</td>\n",
       "    </tr>\n",
       "    <tr>\n",
       "      <td>22</td>\n",
       "      <td>24-Mar-20</td>\n",
       "      <td>685</td>\n",
       "      <td>30</td>\n",
       "    </tr>\n",
       "    <tr>\n",
       "      <td>23</td>\n",
       "      <td>25-Mar-20</td>\n",
       "      <td>790</td>\n",
       "      <td>31</td>\n",
       "    </tr>\n",
       "    <tr>\n",
       "      <td>24</td>\n",
       "      <td>26-Mar-20</td>\n",
       "      <td>893</td>\n",
       "      <td>35</td>\n",
       "    </tr>\n",
       "    <tr>\n",
       "      <td>25</td>\n",
       "      <td>27-Mar-20</td>\n",
       "      <td>1046</td>\n",
       "      <td>46</td>\n",
       "    </tr>\n",
       "    <tr>\n",
       "      <td>26</td>\n",
       "      <td>28-Mar-20</td>\n",
       "      <td>1155</td>\n",
       "      <td>59</td>\n",
       "    </tr>\n",
       "    <tr>\n",
       "      <td>27</td>\n",
       "      <td>29-Mar-20</td>\n",
       "      <td>1285</td>\n",
       "      <td>64</td>\n",
       "    </tr>\n",
       "    <tr>\n",
       "      <td>28</td>\n",
       "      <td>30-Mar-20</td>\n",
       "      <td>1414</td>\n",
       "      <td>75</td>\n",
       "    </tr>\n",
       "    <tr>\n",
       "      <td>29</td>\n",
       "      <td>31-Mar-20</td>\n",
       "      <td>1528</td>\n",
       "      <td>81</td>\n",
       "    </tr>\n",
       "  </tbody>\n",
       "</table>\n",
       "</div>"
      ],
      "text/plain": [
       "         date  acc_confirmed  acc_released\n",
       "0    2-Mar-20              2             0\n",
       "1    3-Mar-20              2             0\n",
       "2    4-Mar-20              2             0\n",
       "3    5-Mar-20              2             0\n",
       "4    6-Mar-20              4             0\n",
       "5    7-Mar-20              4             0\n",
       "6    8-Mar-20              6             0\n",
       "7    9-Mar-20             19             0\n",
       "8   10-Mar-20             27             0\n",
       "9   11-Mar-20             34             2\n",
       "10  12-Mar-20             34             3\n",
       "11  13-Mar-20             69             5\n",
       "12  14-Mar-20             96             8\n",
       "13  15-Mar-20            117             8\n",
       "14  16-Mar-20            134             8\n",
       "15  17-Mar-20            172             9\n",
       "16  18-Mar-20            227            11\n",
       "17  19-Mar-20            309            15\n",
       "18  20-Mar-20            369            16\n",
       "19  21-Mar-20            450            20\n",
       "20  22-Mar-20            514            29\n",
       "21  23-Mar-20            579            30\n",
       "22  24-Mar-20            685            30\n",
       "23  25-Mar-20            790            31\n",
       "24  26-Mar-20            893            35\n",
       "25  27-Mar-20           1046            46\n",
       "26  28-Mar-20           1155            59\n",
       "27  29-Mar-20           1285            64\n",
       "28  30-Mar-20           1414            75\n",
       "29  31-Mar-20           1528            81"
      ]
     },
     "execution_count": 30,
     "metadata": {},
     "output_type": "execute_result"
    }
   ],
   "source": [
    "selected_corona_col = corona_df.loc[:, [\"date\", \"acc_confirmed\", \"acc_released\"]]\n",
    "selected_corona_col"
   ]
  },
  {
   "cell_type": "code",
   "execution_count": null,
   "metadata": {},
   "outputs": [],
   "source": []
  }
 ],
 "metadata": {
  "kernelspec": {
   "display_name": "Python 3.7.3 64-bit",
   "language": "python",
   "name": "python37364bita77e4c48187d4b2fb57e06c99c80aeca"
  },
  "language_info": {
   "codemirror_mode": {
    "name": "ipython",
    "version": 3
   },
   "file_extension": ".py",
   "mimetype": "text/x-python",
   "name": "python",
   "nbconvert_exporter": "python",
   "pygments_lexer": "ipython3",
   "version": "3.7.3"
  }
 },
 "nbformat": 4,
 "nbformat_minor": 2
}
